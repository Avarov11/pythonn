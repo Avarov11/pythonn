{
 "cells": [
  {
   "cell_type": "code",
   "execution_count": 1,
   "id": "aa1d2996",
   "metadata": {},
   "outputs": [
    {
     "name": "stdout",
     "output_type": "stream",
     "text": [
      "enter your first name :youssef\n",
      "enter your last name :walaa\n",
      "walaa youssef\n"
     ]
    }
   ],
   "source": [
    "x=input(\"enter your first name :\")\n",
    "y=input(\"enter your last name :\")\n",
    "print (y,x)\n",
    "\n"
   ]
  },
  {
   "cell_type": "code",
   "execution_count": null,
   "id": "1960777a",
   "metadata": {},
   "outputs": [],
   "source": [
    "x = int(input(\"enter the number\"))\n",
    "sum = x + x11+ x111\n",
    "print(\"sum\",sum)"
   ]
  },
  {
   "cell_type": "code",
   "execution_count": null,
   "id": "1f3505ca",
   "metadata": {},
   "outputs": [],
   "source": [
    "x = int(input(\"enter x\"))\n",
    "if x % 2 ==0:\n",
    "    print(\"even\")\n",
    "else:\n",
    "    print(\"odd\")"
   ]
  },
  {
   "cell_type": "code",
   "execution_count": null,
   "id": "5c7306ec",
   "metadata": {},
   "outputs": [],
   "source": [
    "x = int(input(\"enter the start :\"))\n",
    "y = int(input(\"enter the end :\"))\n",
    "while x <= y:\n",
    "    if x % 7 ==0:\n",
    "        if x % 5 != 0:\n",
    "            print(x)\n",
    "    x += 1"
   ]
  },
  {
   "cell_type": "code",
   "execution_count": null,
   "id": "07ed3c55",
   "metadata": {},
   "outputs": [],
   "source": []
  },
  {
   "cell_type": "code",
   "execution_count": null,
   "id": "eef78093",
   "metadata": {},
   "outputs": [],
   "source": [
    "x=(\"hello team\")\n",
    "print(x[0]+x[2]+x[4]+x[6]+x[8])"
   ]
  },
  {
   "cell_type": "code",
   "execution_count": null,
   "id": "a69188f6",
   "metadata": {},
   "outputs": [],
   "source": [
    "x=float(input(\"enter number\"))\n",
    "if x>=500:\n",
    "    x=0.5x\n",
    "    print (x)\n",
    "elif x>=200 :\n",
    "    x=0.7x\n",
    "    print (x)\n",
    "else :\n",
    "    x=0.9*x\n",
    "    print (x)"
   ]
  }
 ],
 "metadata": {
  "kernelspec": {
   "display_name": "Python 3 (ipykernel)",
   "language": "python",
   "name": "python3"
  },
  "language_info": {
   "codemirror_mode": {
    "name": "ipython",
    "version": 3
   },
   "file_extension": ".py",
   "mimetype": "text/x-python",
   "name": "python",
   "nbconvert_exporter": "python",
   "pygments_lexer": "ipython3",
   "version": "3.9.12"
  }
 },
 "nbformat": 4,
 "nbformat_minor": 5
}
